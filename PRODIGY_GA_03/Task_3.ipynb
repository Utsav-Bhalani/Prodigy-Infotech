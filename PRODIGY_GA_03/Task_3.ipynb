{
  "nbformat": 4,
  "nbformat_minor": 0,
  "metadata": {
    "colab": {
      "provenance": [],
      "gpuType": "T4"
    },
    "kernelspec": {
      "name": "python3",
      "display_name": "Python 3"
    },
    "language_info": {
      "name": "python"
    },
    "accelerator": "GPU"
  },
  "cells": [
    {
      "cell_type": "code",
      "execution_count": 1,
      "metadata": {
        "id": "41EDcy1slPfm"
      },
      "outputs": [],
      "source": [
        "import random"
      ]
    },
    {
      "cell_type": "code",
      "source": [
        "class MarkovChainTextGenerator:\n",
        "    def __init__(self):\n",
        "        self.model = {}\n",
        "\n",
        "    def train(self, text):\n",
        "        \"\"\"Train the model using the input text.\"\"\"\n",
        "        words = text.split()\n",
        "        for i in range(len(words) - 1):\n",
        "            current_word = words[i]\n",
        "            next_word = words[i + 1]\n",
        "\n",
        "            if current_word not in self.model:\n",
        "                self.model[current_word] = []\n",
        "\n",
        "            self.model[current_word].append(next_word)\n",
        "\n",
        "    def generate_text(self, start_word, length=50):\n",
        "        \"\"\"Generate a sequence of words using the trained model.\"\"\"\n",
        "        if start_word not in self.model:\n",
        "            return \"Start word not found in training data.\"\n",
        "\n",
        "        result = [start_word]\n",
        "        current_word = start_word\n",
        "\n",
        "        for _ in range(length - 1):\n",
        "            next_words = self.model.get(current_word)\n",
        "            if not next_words:\n",
        "                break  # No next words available\n",
        "\n",
        "            current_word = random.choice(next_words)\n",
        "            result.append(current_word)\n",
        "\n",
        "        return ' '.join(result)\n"
      ],
      "metadata": {
        "id": "eOjL1ZYIlVY9"
      },
      "execution_count": 2,
      "outputs": []
    },
    {
      "cell_type": "code",
      "source": [
        "# You can paste any large text here\n",
        "training_text = \"\"\"\n",
        "Machine learning is the study of computer algorithms that improve automatically\n",
        "through experience and by the use of data. It is seen as a part of artificial intelligence.\n",
        "Machine learning algorithms build a model based on sample data, known as training data,\n",
        "in order to make predictions or decisions without being explicitly programmed to do so.\n",
        "\"\"\"\n"
      ],
      "metadata": {
        "id": "hOQJ7UIIljyg"
      },
      "execution_count": 3,
      "outputs": []
    },
    {
      "cell_type": "code",
      "source": [
        "# Initialize and train the model\n",
        "generator = MarkovChainTextGenerator()\n",
        "generator.train(training_text)\n"
      ],
      "metadata": {
        "id": "zykLTeeMlmJx"
      },
      "execution_count": 4,
      "outputs": []
    },
    {
      "cell_type": "code",
      "source": [
        "# Generate a text sequence\n",
        "starting_word = \"Machine\"  # Must be present in the training text\n",
        "generated_text = generator.generate_text(starting_word, length=30)\n",
        "print(\"Generated Text:\\n\")\n",
        "print(generated_text)\n"
      ],
      "metadata": {
        "colab": {
          "base_uri": "https://localhost:8080/"
        },
        "id": "jiS9DM9eloLJ",
        "outputId": "9721906a-ba10-4c68-dd43-bbea19296aac"
      },
      "execution_count": 5,
      "outputs": [
        {
          "output_type": "stream",
          "name": "stdout",
          "text": [
            "Generated Text:\n",
            "\n",
            "Machine learning is seen as a model based on sample data, in order to make predictions or decisions without being explicitly programmed to do so.\n"
          ]
        }
      ]
    },
    {
      "cell_type": "code",
      "source": [],
      "metadata": {
        "id": "L1xTAMXYlr24"
      },
      "execution_count": null,
      "outputs": []
    }
  ]
}